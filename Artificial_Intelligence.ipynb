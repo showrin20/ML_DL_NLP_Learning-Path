{
  "nbformat": 4,
  "nbformat_minor": 0,
  "metadata": {
    "colab": {
      "provenance": [],
      "authorship_tag": "ABX9TyMDNPbZmDxtmZtw638iWo41",
      "include_colab_link": true
    },
    "kernelspec": {
      "name": "python3",
      "display_name": "Python 3"
    },
    "language_info": {
      "name": "python"
    }
  },
  "cells": [
    {
      "cell_type": "markdown",
      "metadata": {
        "id": "view-in-github",
        "colab_type": "text"
      },
      "source": [
        "<a href=\"https://colab.research.google.com/github/showrin20/Machine-Learning-Learning-Path/blob/main/Artificial_Intelligence.ipynb\" target=\"_parent\"><img src=\"https://colab.research.google.com/assets/colab-badge.svg\" alt=\"Open In Colab\"/></a>"
      ]
    },
    {
      "cell_type": "code",
      "execution_count": null,
      "metadata": {
        "id": "f2f1qUFL6frl"
      },
      "outputs": [],
      "source": [
        "from queue import PriorityQueue\n",
        "v=14\n",
        "graph=[[] for i in range(v)]\n",
        "def Best_first_search(intial_state,Goal_state,n):\n",
        "  visited=[False]*n\n",
        "  pq=PriorityQueue()\n",
        "  pq.put((0,intial state))\n",
        "  visited[intial_state]=True\n",
        "  while pq.empty() is False:\n",
        "    u=pq.get()[1]\n",
        "    print(u,end=\" \")\n",
        "    if u==Goal_state:\n",
        "      break\n",
        "  for v,c in graph[u]:\n",
        ""
      ]
    }
  ]
}