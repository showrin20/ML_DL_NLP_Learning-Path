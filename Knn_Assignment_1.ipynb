{
  "nbformat": 4,
  "nbformat_minor": 0,
  "metadata": {
    "colab": {
      "provenance": [],
      "authorship_tag": "ABX9TyNnv8Ib2a0Rm2ze0m4C0deC",
      "include_colab_link": true
    },
    "kernelspec": {
      "name": "python3",
      "display_name": "Python 3"
    },
    "language_info": {
      "name": "python"
    }
  },
  "cells": [
    {
      "cell_type": "markdown",
      "metadata": {
        "id": "view-in-github",
        "colab_type": "text"
      },
      "source": [
        "<a href=\"https://colab.research.google.com/github/showrin20/Machine-Learning-Learning-Path/blob/main/Knn_Assignment_1.ipynb\" target=\"_parent\"><img src=\"https://colab.research.google.com/assets/colab-badge.svg\" alt=\"Open In Colab\"/></a>"
      ]
    },
    {
      "cell_type": "code",
      "execution_count": null,
      "metadata": {
        "id": "NAW_WEthuj5P",
        "colab": {
          "base_uri": "https://localhost:8080/"
        },
        "outputId": "8072e19d-badf-4a3d-dd42-35353d7d7b42"
      },
      "outputs": [
        {
          "output_type": "stream",
          "name": "stdout",
          "text": [
            "Error Rates: {1: 0.09599999999999997, 3: 0.08699999999999997, 5: 0.08399999999999996, 7: 0.08599999999999997}\n",
            "Best k: 5\n",
            "Confusion Matrix for the best k:\n",
            " [[ 83   0   0   0   0   0   2   0   0   0]\n",
            " [  0 126   0   0   0   0   0   0   0   0]\n",
            " [  2   4  98   1   1   0   2   6   2   0]\n",
            " [  0   1   0  98   0   2   2   2   0   2]\n",
            " [  0   2   0   0  99   0   1   1   0   7]\n",
            " [  1   1   0   0   1  81   1   0   1   1]\n",
            " [  2   0   0   0   1   0  84   0   0   0]\n",
            " [  0   6   0   0   1   1   0  88   0   2]\n",
            " [  3   1   1   4   1   3   2   0  71   3]\n",
            " [  0   0   0   0   4   0   0   1   2  88]]\n"
          ]
        }
      ],
      "source": [
        "import numpy as np\n",
        "import pandas as pd\n",
        "\n",
        "def process_file(fname):\n",
        "    df = pd.read_csv(fname)\n",
        "    data = df.to_numpy()\n",
        "    feats = data[:, 1:]\n",
        "    labs = data[:, 0]\n",
        "    return feats, labs\n",
        "\n",
        "def process_data(train_file, test_file, train_size=6000, test_size=1000):\n",
        "    # Ensure we do not exceed the dataset's maximum available sizes\n",
        "    max_train_size = 60000  # Assuming 60,000 is the full size of the training dataset\n",
        "    max_test_size = 10000   # Assuming 10,000 is the full size of the testing dataset\n",
        "    train_size = min(train_size, max_train_size)\n",
        "    test_size = min(test_size, max_test_size)\n",
        "\n",
        "    train_feats, train_labs = process_file(train_file)\n",
        "    test_feats, test_labs = process_file(test_file)\n",
        "\n",
        "    return train_feats[:train_size], train_labs[:train_size], test_feats[:test_size], test_labs[:test_size]\n",
        "\n",
        "def euclidean_distance(v1, v2):\n",
        "    '''Calculates the Euclidean distance between two vectors'''\n",
        "    return np.linalg.norm(v1 - v2)\n",
        "\n",
        "def knn_predict(train_feats, train_labs, test_feats, k=3):\n",
        "    '''Predicts labels for test data using the k-nearest neighbors algorithm'''\n",
        "    predictions = []\n",
        "    for test_vector in test_feats:\n",
        "        distances = np.array([euclidean_distance(test_vector, train_vector) for train_vector in train_feats])\n",
        "        nearest_indices = np.argsort(distances)[:k]\n",
        "        nearest_labels = train_labs[nearest_indices]\n",
        "        vote = np.bincount(nearest_labels).argmax()\n",
        "        predictions.append(vote)\n",
        "    return predictions\n",
        "\n",
        "def accuracy_score(y_true, y_pred):\n",
        "    '''Calculates the accuracy of predictions'''\n",
        "    return np.sum(y_true == y_pred) / len(y_true)\n",
        "\n",
        "def confusion_matrix(y_true, y_pred):\n",
        "    '''Generates a confusion matrix'''\n",
        "    matrix = np.zeros((10, 10), dtype=int)\n",
        "    for actual, predicted in zip(y_true, y_pred):\n",
        "        matrix[actual][predicted] += 1\n",
        "    return matrix\n",
        "\n",
        "# Replace these paths with the correct paths to your MNIST dataset files\n",
        "train_file = '/content/mnist_train.csv'\n",
        "test_file = '/content/mnist_test.csv'\n",
        "\n",
        "# Load and process the data\n",
        "train_feats, train_labs, test_feats, test_labs = process_data(train_file, test_file)\n",
        "\n",
        "# Evaluate the model for different values of k and determine the best one based on error rates\n",
        "k_values = [1, 3, 5, 7]\n",
        "error_rates = {}\n",
        "\n",
        "for k in k_values:\n",
        "    predictions = knn_predict(train_feats, train_labs, test_feats, k)\n",
        "    acc = accuracy_score(test_labs, predictions)\n",
        "    error_rates[k] = 1 - acc\n",
        "\n",
        "best_k = min(error_rates, key=error_rates.get)\n",
        "best_predictions = knn_predict(train_feats, train_labs, test_feats, best_k)\n",
        "conf_matrix = confusion_matrix(test_labs, best_predictions)\n",
        "\n",
        "print(\"Error Rates:\", error_rates)\n",
        "print(\"Best k:\", best_k)\n",
        "print(\"Confusion Matrix for the best k:\\n\", conf_matrix)\n"
      ]
    }
  ]
}