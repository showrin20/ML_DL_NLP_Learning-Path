{
  "nbformat": 4,
  "nbformat_minor": 0,
  "metadata": {
    "colab": {
      "provenance": [],
      "authorship_tag": "ABX9TyMBgGTSoVfT4/G9dR2Sboru",
      "include_colab_link": true
    },
    "kernelspec": {
      "name": "python3",
      "display_name": "Python 3"
    },
    "language_info": {
      "name": "python"
    }
  },
  "cells": [
    {
      "cell_type": "markdown",
      "metadata": {
        "id": "view-in-github",
        "colab_type": "text"
      },
      "source": [
        "<a href=\"https://colab.research.google.com/github/showrin20/ML_DL_NLP_Learning-Path/blob/main/Numpy/ML.ipynb\" target=\"_parent\"><img src=\"https://colab.research.google.com/assets/colab-badge.svg\" alt=\"Open In Colab\"/></a>"
      ]
    },
    {
      "cell_type": "code",
      "source": [
        "!git clone https://github.com/showrin20/ML_DL_NLP_Learning-Path.git /content/ML_DL_NLP_Learning-Path\n"
      ],
      "metadata": {
        "colab": {
          "base_uri": "https://localhost:8080/"
        },
        "id": "BmG9ftX3V7Vx",
        "outputId": "32e6c2a9-efca-47cd-bdf4-0ee1ac16ec97"
      },
      "execution_count": 31,
      "outputs": [
        {
          "output_type": "stream",
          "name": "stdout",
          "text": [
            "Cloning into '/content/ML_DL_NLP_Learning-Path'...\n",
            "remote: Enumerating objects: 180, done.\u001b[K\n",
            "remote: Counting objects: 100% (6/6), done.\u001b[K\n",
            "remote: Compressing objects: 100% (6/6), done.\u001b[K\n",
            "remote: Total 180 (delta 2), reused 0 (delta 0), pack-reused 174 (from 1)\u001b[K\n",
            "Receiving objects: 100% (180/180), 87.44 KiB | 1.08 MiB/s, done.\n",
            "Resolving deltas: 100% (78/78), done.\n"
          ]
        }
      ]
    },
    {
      "cell_type": "code",
      "source": [
        "%cd /content/ML_DL_NLP_Learning-Path/Numpy\n"
      ],
      "metadata": {
        "colab": {
          "base_uri": "https://localhost:8080/"
        },
        "id": "eVQT8yHiV7Tb",
        "outputId": "df91b88c-3a40-40b9-b16e-1bb714077452"
      },
      "execution_count": 32,
      "outputs": [
        {
          "output_type": "stream",
          "name": "stdout",
          "text": [
            "/content/ML_DL_NLP_Learning-Path/Numpy\n"
          ]
        }
      ]
    },
    {
      "cell_type": "code",
      "source": [
        "!git config --global user.email \"showrinrahman66@gmail.com\"\n",
        "!git config --global user.name \"Showrin Rahman\""
      ],
      "metadata": {
        "id": "tTd_iyldV7QL"
      },
      "execution_count": 33,
      "outputs": []
    },
    {
      "cell_type": "code",
      "execution_count": 1,
      "metadata": {
        "colab": {
          "base_uri": "https://localhost:8080/"
        },
        "id": "btplMbpdAzC0",
        "outputId": "fae926b5-89a9-4c9e-e94d-9a7b1a9dc4e5"
      },
      "outputs": [
        {
          "output_type": "stream",
          "name": "stdout",
          "text": [
            "Requirement already satisfied: numpy in /usr/local/lib/python3.11/dist-packages (2.0.2)\n"
          ]
        }
      ],
      "source": [
        "!pip install numpy"
      ]
    },
    {
      "cell_type": "code",
      "source": [
        "!cp /content/my_numpy_notebook.ipynb /content/ML_DL_NLP_Learning-Path/Numpy/ML.ipynb\n"
      ],
      "metadata": {
        "colab": {
          "base_uri": "https://localhost:8080/"
        },
        "id": "oeYbd_-7WQVr",
        "outputId": "eb305119-6ce1-45c6-a843-96ddb25ec070"
      },
      "execution_count": 35,
      "outputs": [
        {
          "output_type": "stream",
          "name": "stdout",
          "text": [
            "cp: cannot stat '/content/my_numpy_notebook.ipynb': No such file or directory\n"
          ]
        }
      ]
    },
    {
      "cell_type": "code",
      "source": [
        "import numpy as np"
      ],
      "metadata": {
        "id": "LOTZVOpFBOd9"
      },
      "execution_count": 3,
      "outputs": []
    },
    {
      "cell_type": "code",
      "source": [
        "a = np.array([1, 2, 3])\n",
        "a"
      ],
      "metadata": {
        "colab": {
          "base_uri": "https://localhost:8080/"
        },
        "id": "_4rBaD-XIJLp",
        "outputId": "392c0578-606b-4916-dc34-57371ec70430"
      },
      "execution_count": 9,
      "outputs": [
        {
          "output_type": "execute_result",
          "data": {
            "text/plain": [
              "array([1, 2, 3])"
            ]
          },
          "metadata": {},
          "execution_count": 9
        }
      ]
    },
    {
      "cell_type": "markdown",
      "source": [],
      "metadata": {
        "id": "_q2J_1gaTQGy"
      }
    },
    {
      "cell_type": "code",
      "source": [
        "a"
      ],
      "metadata": {
        "id": "KFG-E110Q4Z1"
      },
      "execution_count": null,
      "outputs": []
    },
    {
      "cell_type": "code",
      "source": [],
      "metadata": {
        "id": "UKbBTjCRQ4W-"
      },
      "execution_count": null,
      "outputs": []
    },
    {
      "cell_type": "code",
      "source": [],
      "metadata": {
        "id": "0b52H1soQ4UX"
      },
      "execution_count": null,
      "outputs": []
    },
    {
      "cell_type": "code",
      "source": [],
      "metadata": {
        "id": "Xq1X7l3NQ4RB"
      },
      "execution_count": null,
      "outputs": []
    },
    {
      "cell_type": "markdown",
      "source": [
        "**Create**"
      ],
      "metadata": {
        "id": "U_ZQSHb2DKes"
      }
    },
    {
      "cell_type": "code",
      "source": [
        "r= np.random.rand(2,3,4)\n",
        "r\n"
      ],
      "metadata": {
        "colab": {
          "base_uri": "https://localhost:8080/"
        },
        "id": "iZgARpOsBOgi",
        "outputId": "ae14055b-f3ff-4563-ae79-8017f0b4c521"
      },
      "execution_count": 5,
      "outputs": [
        {
          "output_type": "execute_result",
          "data": {
            "text/plain": [
              "array([[[0.53272285, 0.77740595, 0.43222755, 0.5756148 ],\n",
              "        [0.25534828, 0.84102663, 0.40571609, 0.80571783],\n",
              "        [0.15020077, 0.4409709 , 0.54938466, 0.65877853]],\n",
              "\n",
              "       [[0.59511529, 0.31037263, 0.97397432, 0.84627911],\n",
              "        [0.26393953, 0.9751538 , 0.70729763, 0.5983301 ],\n",
              "        [0.96634679, 0.79955347, 0.71397923, 0.57865922]]])"
            ]
          },
          "metadata": {},
          "execution_count": 5
        }
      ]
    },
    {
      "cell_type": "code",
      "source": [
        "a= np.ones((2,3,6))\n",
        "a"
      ],
      "metadata": {
        "colab": {
          "base_uri": "https://localhost:8080/"
        },
        "id": "rH3PD6VTBOlg",
        "outputId": "561a6bbf-812f-41af-ff87-388d53c1e8fa"
      },
      "execution_count": 7,
      "outputs": [
        {
          "output_type": "execute_result",
          "data": {
            "text/plain": [
              "array([[[1., 1., 1., 1., 1., 1.],\n",
              "        [1., 1., 1., 1., 1., 1.],\n",
              "        [1., 1., 1., 1., 1., 1.]],\n",
              "\n",
              "       [[1., 1., 1., 1., 1., 1.],\n",
              "        [1., 1., 1., 1., 1., 1.],\n",
              "        [1., 1., 1., 1., 1., 1.]]])"
            ]
          },
          "metadata": {},
          "execution_count": 7
        }
      ]
    },
    {
      "cell_type": "markdown",
      "source": [
        "# 🧾 NumPy Array Attributes\n",
        "\n",
        "\n",
        "```python\n",
        "import numpy as np\n",
        "\n",
        "r = np.random.rand(2, 3, 4)\n",
        "```\n",
        "\n",
        "So `r` is a **3D array** with shape `(2, 3, 4)`.\n",
        "\n",
        "\n",
        "## 🧱 1. `r.ndim` → Number of Dimensions\n",
        "\n",
        "```python\n",
        "print(r.ndim)   # Output: 3\n",
        "```\n",
        "\n",
        "### 🧠 Means:\n",
        "\n",
        "* `1D` → vector\n",
        "* `2D` → matrix\n",
        "* `3D` → tensor / multi-channel image\n",
        "* Higher → e.g. time series, batches, etc.\n",
        "\n",
        "\n",
        "## 📐 2. `r.shape` → Tuple of Dimensions\n",
        "\n",
        "```python\n",
        "print(r.shape)  # Output: (2, 3, 4)\n",
        "```\n",
        "\n",
        "### 🧠 Means:\n",
        "\n",
        "* 2 blocks\n",
        "* each block has 3 rows\n",
        "* each row has 4 elements\n",
        "\n",
        "**`.shape`** is crucial for reshaping, slicing, and broadcasting.\n",
        "\n",
        "\n",
        "## 🔢 3. `r.size` → Total Number of Elements\n",
        "\n",
        "```python\n",
        "print(r.size)   # Output: 24\n",
        "```\n",
        "\n",
        "### 🧠 Formula:\n",
        "\n",
        "```python\n",
        "2 × 3 × 4 = 24\n",
        "```\n",
        "\n",
        "\n",
        "## 💭 Bonus: More Attributes You Should Know\n",
        "\n",
        "| Attribute    | What it Gives You                         |\n",
        "| ------------ | ----------------------------------------- |\n",
        "| `r.dtype`    | Data type (`float64`, `int32`, etc.)      |\n",
        "| `r.itemsize` | Size in bytes of one element              |\n",
        "| `r.nbytes`   | Total memory consumed (`size × itemsize`) |\n",
        "| `r.T`        | Transpose (for 2D arrays)                 |\n",
        "\n",
        "```python\n",
        "print(r.dtype)       # float64\n",
        "print(r.itemsize)    # 8  (for float64)\n",
        "print(r.nbytes)      # 192 (24 × 8)\n",
        "```\n",
        "\n"
      ],
      "metadata": {
        "id": "DTrwKpBzTRC7"
      }
    },
    {
      "cell_type": "code",
      "source": [
        "b= np.random.rand(3,3,4)\n",
        "b\n"
      ],
      "metadata": {
        "colab": {
          "base_uri": "https://localhost:8080/"
        },
        "id": "FRbubshyBOoW",
        "outputId": "ad774e06-9354-40a3-b5f3-ad514fb847ff"
      },
      "execution_count": 23,
      "outputs": [
        {
          "output_type": "execute_result",
          "data": {
            "text/plain": [
              "array([[[0.25253393, 0.53253362, 0.40904397, 0.80146625],\n",
              "        [0.88785052, 0.43921481, 0.00453425, 0.15690748],\n",
              "        [0.83902867, 0.30746409, 0.69376426, 0.46212766]],\n",
              "\n",
              "       [[0.59118684, 0.78936562, 0.61756363, 0.87858585],\n",
              "        [0.1981045 , 0.4726754 , 0.58716898, 0.67020793],\n",
              "        [0.7162224 , 0.46150431, 0.79187169, 0.39638166]],\n",
              "\n",
              "       [[0.3884249 , 0.83451625, 0.55925129, 0.15032578],\n",
              "        [0.67611342, 0.04422372, 0.54407852, 0.63188717],\n",
              "        [0.05588103, 0.79222411, 0.59413132, 0.31859642]]])"
            ]
          },
          "metadata": {},
          "execution_count": 23
        }
      ]
    },
    {
      "cell_type": "code",
      "source": [
        " b.ndim"
      ],
      "metadata": {
        "colab": {
          "base_uri": "https://localhost:8080/"
        },
        "id": "3rCGlNl_BOq9",
        "outputId": "dd7aad30-065d-4b29-c0f2-b6d1658b0222"
      },
      "execution_count": 24,
      "outputs": [
        {
          "output_type": "execute_result",
          "data": {
            "text/plain": [
              "3"
            ]
          },
          "metadata": {},
          "execution_count": 24
        }
      ]
    },
    {
      "cell_type": "code",
      "source": [
        "b.shape"
      ],
      "metadata": {
        "colab": {
          "base_uri": "https://localhost:8080/"
        },
        "id": "0r66sxSnBOtk",
        "outputId": "dc29150f-c022-48d1-c8db-bb5e71fbd62a"
      },
      "execution_count": 25,
      "outputs": [
        {
          "output_type": "execute_result",
          "data": {
            "text/plain": [
              "(3, 3, 4)"
            ]
          },
          "metadata": {},
          "execution_count": 25
        }
      ]
    },
    {
      "cell_type": "code",
      "source": [
        "b.size"
      ],
      "metadata": {
        "colab": {
          "base_uri": "https://localhost:8080/"
        },
        "id": "FPdyNNS-BOwb",
        "outputId": "54466201-422a-4e53-c70d-7541800e294d"
      },
      "execution_count": 26,
      "outputs": [
        {
          "output_type": "execute_result",
          "data": {
            "text/plain": [
              "36"
            ]
          },
          "metadata": {},
          "execution_count": 26
        }
      ]
    },
    {
      "cell_type": "code",
      "source": [
        "b.nbytes"
      ],
      "metadata": {
        "colab": {
          "base_uri": "https://localhost:8080/"
        },
        "id": "GOBADTdKBOzj",
        "outputId": "4e3fa0af-ecdb-488d-fbd4-07404a36aa99"
      },
      "execution_count": 28,
      "outputs": [
        {
          "output_type": "execute_result",
          "data": {
            "text/plain": [
              "288"
            ]
          },
          "metadata": {},
          "execution_count": 28
        }
      ]
    },
    {
      "cell_type": "code",
      "source": [
        "b.dtype"
      ],
      "metadata": {
        "colab": {
          "base_uri": "https://localhost:8080/"
        },
        "id": "-3tMU5aPBO15",
        "outputId": "63651917-24a4-4ad3-9b33-7ebe384d2751"
      },
      "execution_count": 29,
      "outputs": [
        {
          "output_type": "execute_result",
          "data": {
            "text/plain": [
              "dtype('float64')"
            ]
          },
          "metadata": {},
          "execution_count": 29
        }
      ]
    },
    {
      "cell_type": "code",
      "source": [
        "b.itemsize"
      ],
      "metadata": {
        "colab": {
          "base_uri": "https://localhost:8080/"
        },
        "id": "MbrovF0uUUqS",
        "outputId": "f621c3a0-8f8f-4fdc-cdc5-4275e3392ae0"
      },
      "execution_count": 30,
      "outputs": [
        {
          "output_type": "execute_result",
          "data": {
            "text/plain": [
              "8"
            ]
          },
          "metadata": {},
          "execution_count": 30
        }
      ]
    }
  ]
}